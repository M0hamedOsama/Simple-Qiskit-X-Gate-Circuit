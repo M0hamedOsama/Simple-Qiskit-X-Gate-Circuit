{
 "cells": [
  {
   "cell_type": "code",
   "execution_count": null,
   "id": "afafd3fc-b3ab-4dbf-81d6-0b3debaa9997",
   "metadata": {},
   "outputs": [],
   "source": [
    "pip install qiskit"
   ]
  },
  {
   "cell_type": "code",
   "execution_count": 1,
   "id": "33e87a99-b0d7-4188-829a-c570f6e1c378",
   "metadata": {},
   "outputs": [],
   "source": [
    "import qiskit"
   ]
  },
  {
   "cell_type": "code",
   "execution_count": 2,
   "id": "0a0b0a97-53db-4d65-8caf-087743ea1279",
   "metadata": {},
   "outputs": [],
   "source": [
    "from qiskit import QuantumRegister , ClassicalRegister, QuantumCircuit"
   ]
  },
  {
   "cell_type": "code",
   "execution_count": 1,
   "id": "a961e306-4174-4f15-8afe-ebec4d1123c7",
   "metadata": {},
   "outputs": [
    {
     "data": {
      "text/html": [
       "<pre style=\"word-wrap: normal;white-space: pre;background: #fff0;line-height: 1.1;font-family: &quot;Courier New&quot;,Courier,monospace\">           \n",
       "q0_0: ─────\n",
       "           \n",
       "q0_1: ─────\n",
       "      ┌───┐\n",
       "q0_2: ┤ X ├\n",
       "      └───┘\n",
       "q0_3: ─────\n",
       "      ┌───┐\n",
       "q0_4: ┤ X ├\n",
       "      └───┘\n",
       "c0: 5/═════\n",
       "           </pre>"
      ],
      "text/plain": [
       "           \n",
       "q0_0: ─────\n",
       "           \n",
       "q0_1: ─────\n",
       "      ┌───┐\n",
       "q0_2: ┤ X ├\n",
       "      └───┘\n",
       "q0_3: ─────\n",
       "      ┌───┐\n",
       "q0_4: ┤ X ├\n",
       "      └───┘\n",
       "c0: 5/═════\n",
       "           "
      ]
     },
     "execution_count": 1,
     "metadata": {},
     "output_type": "execute_result"
    }
   ],
   "source": [
    "from qiskit import QuantumRegister , ClassicalRegister, QuantumCircuit\n",
    "# design 5 qubit\n",
    "qr = QuantumRegister(5)\n",
    "cr = ClassicalRegister(5)\n",
    "qc = QuantumCircuit(qr,cr)\n",
    "# apply X-gate 2 and 4 \n",
    "qc.x(2)    \n",
    "qc.x(4) \n",
    "\n",
    "qc.draw()"
   ]
  },
  {
   "cell_type": "code",
   "execution_count": null,
   "id": "ff0a8e19-55bc-414b-a992-c1b7110050e8",
   "metadata": {},
   "outputs": [],
   "source": []
  }
 ],
 "metadata": {
  "kernelspec": {
   "display_name": "Python 3 (ipykernel)",
   "language": "python",
   "name": "python3"
  },
  "language_info": {
   "codemirror_mode": {
    "name": "ipython",
    "version": 3
   },
   "file_extension": ".py",
   "mimetype": "text/x-python",
   "name": "python",
   "nbconvert_exporter": "python",
   "pygments_lexer": "ipython3",
   "version": "3.12.7"
  }
 },
 "nbformat": 4,
 "nbformat_minor": 5
}
